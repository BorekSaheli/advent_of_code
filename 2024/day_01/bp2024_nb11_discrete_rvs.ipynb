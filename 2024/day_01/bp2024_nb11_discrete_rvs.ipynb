{
 "cells": [
  {
   "cell_type": "markdown",
   "metadata": {},
   "source": [
    "<figure>\n",
    "  <IMG SRC=\"https://raw.githubusercontent.com/mbakker7/exploratory_computing_with_python/master/tudelft_logo.png\" WIDTH=250 ALIGN=\"right\">\n",
    "</figure>\n",
    "\n",
    "# Exploratory Computing with Python\n",
    "*Developed by Mark Bakker and Valeri Markine*"
   ]
  },
  {
   "cell_type": "markdown",
   "metadata": {},
   "source": [
    "## Notebook 11: Discrete random variables\n",
    "In this Notebook you learn how to deal with discrete random variables. Many of the functions we will use are included in the `random` subpackage of `numpy`. We will import this package and call it `rnd` so that we don't have to type `np.random.` all the time.\n",
    "\n",
    "Note: add labels along all axes and legend and title where appropriate."
   ]
  },
  {
   "cell_type": "code",
   "execution_count": null,
   "metadata": {},
   "outputs": [],
   "source": [
    "%matplotlib inline\n",
    "import numpy as np\n",
    "import matplotlib.pyplot as plt\n",
    "import numpy.random as rnd"
   ]
  },
  {
   "cell_type": "markdown",
   "metadata": {},
   "source": [
    "### Random numbers\n",
    "A random number generator lets you draw, at random, a number from a specified distribution. Several random number generators are included in the `random` subpackage of `numpy`. For example, the `randint(low, high, size)` function returns an integer array of shape `size` at random from `low` up to (but not including) `high`. For example, let's flip a coin 10 times and assign a 0 to heads and a 1 to tails. Note that the `high` is specified as `1 + 1`, which means it is `1` higher than the value we want."
   ]
  },
  {
   "cell_type": "code",
   "execution_count": null,
   "metadata": {},
   "outputs": [],
   "source": [
    "rnd.randint(0, 1 + 1, 10)"
   ]
  },
  {
   "cell_type": "markdown",
   "metadata": {},
   "source": [
    "If we call the `randint` function again, we get a different sequence of heads (zeros) and tails (ones):"
   ]
  },
  {
   "cell_type": "code",
   "execution_count": null,
   "metadata": {},
   "outputs": [],
   "source": [
    "rnd.randint(0, 1 + 1, 10)"
   ]
  },
  {
   "cell_type": "markdown",
   "metadata": {},
   "source": [
    "Internally, the random number generator starts with what is called a *seed*. The seed is a number and is generated automatically (and supposedly at random) when you call the random number generator. The value of the seed exactly defines the sequence of random numbers that you get (so some people may argue that the generated sequence is at best pseudo-random, and you may not want to use the sequence for any serious cryptographic use, but for our purposes they are random enough). For example, let's set `seed` equal to 10"
   ]
  },
  {
   "cell_type": "code",
   "execution_count": null,
   "metadata": {},
   "outputs": [],
   "source": [
    "rnd.seed(10)\n",
    "rnd.randint(0, 1 + 1, 10)"
   ]
  },
  {
   "cell_type": "markdown",
   "metadata": {},
   "source": [
    "If we now specify the seed again as 10, we can generate the exact same sequence"
   ]
  },
  {
   "cell_type": "code",
   "execution_count": null,
   "metadata": {},
   "outputs": [],
   "source": [
    "rnd.seed(10)\n",
    "rnd.randint(0, 1+1, 10)"
   ]
  },
  {
   "cell_type": "markdown",
   "metadata": {},
   "source": [
    "The ability to generate the exact same sequence is useful during code development. For example, by seeding the random number generator, you can compare your output to output of others trying to solve the same problem. "
   ]
  },
  {
   "cell_type": "markdown",
   "metadata": {},
   "source": [
    "### Flipping a coin\n",
    "Enough for now about random number generators. Let's flip a coin 100 times and count the number of heads (0-s) and the number of tails (1-s):"
   ]
  },
  {
   "cell_type": "code",
   "execution_count": null,
   "metadata": {},
   "outputs": [],
   "source": [
    "flip = rnd.randint(0, 1 + 1, 100)\n",
    "headcount = 0\n",
    "tailcount = 0\n",
    "for i in range(100):\n",
    "    if flip[i] == 0:\n",
    "        headcount += 1\n",
    "    else:\n",
    "        tailcount += 1\n",
    "print('number of heads:', headcount)\n",
    "print('number of tails:', tailcount)"
   ]
  },
  {
   "cell_type": "markdown",
   "metadata": {},
   "source": [
    "First of all, note that the number of heads and the number of tails adds up to 100. Also, note how we counted the heads and tails. We created counters `headcount` and `tailcount`, looped through all flips, and added 1 to the appropriate counter. Instead of a loop, we could have used a condition combined with the `np.count_nonzero` function"
   ]
  },
  {
   "cell_type": "code",
   "execution_count": null,
   "metadata": {},
   "outputs": [],
   "source": [
    "headcount = np.count_nonzero(flip == 0)\n",
    "tailcount = np.count_nonzero(flip == 1)\n",
    "print('headcount', headcount)\n",
    "print('tailcount', tailcount)"
   ]
  },
  {
   "cell_type": "markdown",
   "metadata": {},
   "source": [
    "How does that work? You may recall that the `flip == 0` statement returns an array with length 100 (equal to the lenght of `flip`) with the value `True` when the condition is met, and `False` when the condition is not met. The boolean `True` has the value 1, and the boolean `False` has the value 0. So we simply need to count the nonzero values using the `np.count_nonzero` function to find out how many items are `True`. \n",
    "\n",
    "The code above is easy, but if we do an experiment with more than two outcomes, it may be cumbersome to count the non-zero items for every possible outcome. So let's try to rewrite this part of the code using a loop. For this specific case, the number of lines of code doesn't decrease, but when we have an experiment with many different outcomes this will be much more efficient. Note that `dtype='int'` sets the array to integers."
   ]
  },
  {
   "cell_type": "code",
   "execution_count": null,
   "metadata": {},
   "outputs": [],
   "source": [
    "# Two outcomes. heads are stored in outcome[0], tails in outcome[1]\n",
    "outcomes = np.zeros(2, dtype='int') \n",
    "\n",
    "for i in range (2):\n",
    "    outcomes[i] = np.count_nonzero(flip == i)\n",
    "    print(f'outcome {i} is {outcomes[i]}')"
   ]
  },
  {
   "cell_type": "markdown",
   "metadata": {},
   "source": [
    "### Exercise 1. Selecting a multipe-choice answer\n",
    "A multiple choice exam consists of 100 questions. Each question has four possible answers, labeled 'a', 'b', 'c', 'd'. \n",
    "\n",
    "Your task: For each question, generate randomly an answer (1 of the 4 possible ones) and calculate how many answers 'a', 'b', 'c', 'd' were generated. \n",
    "\n",
    "- Print the results to the screen, e.g. `answer a, b, c, d: [20. 23. 31. 26.]`. \n",
    "- Make sure you use a loop in your code as we did in the previous code cell (but that goes without saying). \n",
    "- Play with the seed number, and find the one such that at least one of the answers was selected 30 or more times (like the example of the output above wherein the answer 'c' was generated 31 times)."
   ]
  },
  {
   "cell_type": "code",
   "execution_count": null,
   "metadata": {
    "tags": []
   },
   "outputs": [],
   "source": []
  },
  {
   "cell_type": "markdown",
   "metadata": {},
   "source": [
    "### Flipping a coin twice\n",
    "Next, we are going to flip a coin twice for 100 times and count the number of tails in two throws. We generate a random array of 0-s (heads) and 1-s (tails) with two rows (representing two coin flips) and 100 colums using the keyword argument `size` of the function `randint()`. \n",
    "\n"
   ]
  },
  {
   "cell_type": "code",
   "execution_count": null,
   "metadata": {},
   "outputs": [],
   "source": [
    "rnd.seed(55)\n",
    "flips = rnd.randint(low=0, high=1 + 1, size=(2, 10))\n",
    "print(flips)"
   ]
  },
  {
   "cell_type": "markdown",
   "metadata": {},
   "source": [
    "The sum of the two rows represents the number of tails. Recall that the `np.sum` function takes an array as input argument and by default sums all the values in the array and returns one number. In this case we want to sum the rows. For that, the `sum` function has a keyword argument called `axis`, where `axis=0` sums over index 0 of the array (the rows), `axis=1` sums over the index 1 of the array (the columns), etc."
   ]
  },
  {
   "cell_type": "code",
   "execution_count": null,
   "metadata": {},
   "outputs": [],
   "source": [
    "tails = np.sum(flips, axis=0)\n",
    "number_of_tails = np.zeros(3, dtype='int')\n",
    "for i in range(3):\n",
    "    number_of_tails[i] = np.count_nonzero(tails == i)\n",
    "print('number of 0, 1, 2 tails:', number_of_tails)"
   ]
  },
  {
   "cell_type": "markdown",
   "metadata": {},
   "source": [
    "Another way to simulate flipping a coin twice, is to draw a number at random from a set of 2 numbers (0 and 1). You need to replace the number after every draw, of course. The `numpy` function to draw a random number from a given array is called `choice`. The `choice` function has a keyword to specify whether values are replaced or not. Hence the following two ways to generate 5 flips are identical."
   ]
  },
  {
   "cell_type": "code",
   "execution_count": null,
   "metadata": {},
   "outputs": [],
   "source": [
    "rnd.seed(55)\n",
    "flips1 = rnd.randint(low=0, high=1 + 1, size=5)\n",
    "rnd.seed(55)\n",
    "flips2 = rnd.choice(range(2), size=5, replace=True)\n",
    "\n",
    "# Check whether all values in the two arrays are equal to each other\n",
    "np.alltrue(flips1 == flips2)  "
   ]
  },
  {
   "cell_type": "markdown",
   "metadata": {},
   "source": [
    "### Bar graph\n",
    "The outcome of the experiment may also be plotted with a bar graph"
   ]
  },
  {
   "cell_type": "code",
   "execution_count": null,
   "metadata": {},
   "outputs": [],
   "source": [
    "plt.bar(range(0, 3), number_of_tails)\n",
    "plt.xticks(range(0, 3))\n",
    "plt.xlabel('number of tails')\n",
    "plt.ylabel('occurence in 100 trials');"
   ]
  },
  {
   "cell_type": "markdown",
   "metadata": {},
   "source": [
    "### Cumulative Probability\n",
    "Next, we compute the experimental probability of 0 tails, 1 tail, and 2 tails through division by the total number of trials (one trial is two coin flips). The three probabilities add up to 1. The cumulative probability distribution is obtained by cumulatively summing the probabilities using the `cumsum` function of `numpy`. The first value is the probability of throwing 0 tails. The second value is the probability of 1 or fewer tails, and the third value it the probability of 2 or fewer tails. The probability is computed as the number of tails divided by the total number of trials."
   ]
  },
  {
   "cell_type": "code",
   "execution_count": null,
   "metadata": {},
   "outputs": [],
   "source": [
    "# number_of_tails was computed two code cells back\n",
    "prob = number_of_tails / 100  \n",
    "print('prob     ',prob)\n",
    "\n",
    "# So cum_prob[0] = prob[0], cum_prob[1] = prob[0] + prob[1], etc.\n",
    "cum_prob = np.cumsum(prob) \n",
    "print('cum_prob ', cum_prob)"
   ]
  },
  {
   "cell_type": "markdown",
   "metadata": {},
   "source": [
    "The cumulative probability distribution is plotted with a bar graph, making sure that all the bars touch each other (by setting the width to 1, in the case below)"
   ]
  },
  {
   "cell_type": "code",
   "execution_count": null,
   "metadata": {},
   "outputs": [],
   "source": [
    "plt.bar(range(0, 3), cum_prob, width=1)\n",
    "plt.xticks(range(0, 3))\n",
    "plt.xlabel('number of tails in two flips')\n",
    "plt.ylabel('cumulative probability');"
   ]
  },
  {
   "cell_type": "markdown",
   "metadata": {},
   "source": [
    "### Exercise 2. Roulette table\n",
    "![](https://miro.medium.com/max/1400/1*fRrnkiMwp0CbpHI8nXuRKw.jpeg)\n",
    "A regular roulette table consists of 36 numbers, namely from 0 (the bank) to 36. (American roulette tables actually have 0 and 00, but let's not go there). \n",
    "\n",
    "One of the bets you can place is whether the ball lands on one of the first 12 numbers (1-12), the second 12 numbers (13-24), or the third 12 numbers (25-36). When you win one of these bets, the payout is 2 to 1 (so the payout is twice your bet).  \n",
    "\n",
    "You are playing 9 games and are consistently betting that the ball will land on one of the **first 12 numbers**. You need three wins in 9 games to break even. \n",
    "\n",
    "- Write a function `roulette()` that counts how many times you win in 9 games by drawing 9 random numbers (out of 36+1 possible ones). \n",
    "- The function takes no input arguments and returns the number of wins in 9 games. "
   ]
  },
  {
   "cell_type": "code",
   "execution_count": null,
   "metadata": {},
   "outputs": [],
   "source": [
    "\n"
   ]
  },
  {
   "cell_type": "markdown",
   "metadata": {},
   "source": [
    "As an experiment, the 9 games are performed $N$ times. \n",
    "- Write a function `experiment(N)` that carries out the experiment and returns the probability of at least three wins, so you don't lose any money and may even win some; \n",
    "- the function must call the function `roulette()` you wrote above, of course. \n",
    "- Input argument is $N$. \n",
    "- Test your function by computing the experimental probability of at least breaking even for $N=1000$ using a seed of 666. The answer should be 0.61."
   ]
  },
  {
   "cell_type": "code",
   "execution_count": null,
   "metadata": {},
   "outputs": [],
   "source": [
    "\n"
   ]
  },
  {
   "cell_type": "code",
   "execution_count": null,
   "metadata": {},
   "outputs": [],
   "source": [
    "#test your function here\n",
    "\n"
   ]
  },
  {
   "cell_type": "markdown",
   "metadata": {},
   "source": [
    "### Probability of a Bernouilli variable\n",
    "In the previous exercise, we computed the probability of the number of wins in nine games experimentally. But we can, of course, compute the value exactly by using a few simple formulas. Consider the random variable $Y$, which is the outcome of an experiment with two possible values 0 and 1. Let $p$ be the probability of success, $p=P(Y=1)$. \n",
    "Then $Y$ is said to be a Bernoulli variable. The experiment is repeated $n$ times and we define $X$ as the number of successes in the experiment. The variable $X$ has a Binomial Distribution with parameters $n$ and $p$. The probability that $X$ takes value $k$ can be computed as (see for example [here](http://en.wikipedia.org/wiki/Binomial_distribution))\n",
    "\n",
    "$$P(X=k) = \\binom{n}{k}p^k(1-p)^{n-k}$$\n",
    "\n",
    "The term $\\binom{n}{k}$ may be computed with the `comb` function, which needs to be imported from the `scipy.special` package."
   ]
  },
  {
   "cell_type": "markdown",
   "metadata": {},
   "source": [
    "### Exercise 3. Theoretical value\n",
    "Consider again the Exercise 2 where we play 9 games of roulette, always betting on the first 12 numbers. \n",
    "- Write a function `theoretical(k)` that computes and returns the theoretical probability `p` of getting exactly $k$ wins, where $k$ is an input argument using the formulae for $P(X=k)$ above. $n$ in our case is equal to 9 and the probability of succes $p$ in this formulae is the probability of the win (12 numbers out of 37 possible ones).\n",
    "\n",
    "- Call the function 10 times (with the argument $k$ varying form 0 to 9) to calculate the probability of the $k$ wins and store the results. \n",
    "\n",
    "- Create one figure with two side-by-side sub-plots. The left plot shows a bar graph of the theoretical probabilities and the right plot shows a cumulative probability distribution of the theoretical probabilities. \n",
    "\n",
    "- Make sure the tick marks along the horizontal axis (the number of wins) go from 0 to 9."
   ]
  },
  {
   "cell_type": "code",
   "execution_count": null,
   "metadata": {},
   "outputs": [],
   "source": [
    "from scipy.special import comb\n",
    "\n"
   ]
  },
  {
   "cell_type": "markdown",
   "metadata": {},
   "source": [
    "### Exercise 4.  Experimental vs. theoretical\n",
    "Go back to the Exercise 2 where we play 9 games of roulette, always betting on the first 12 numbers, and we do the experiment $N$ times. \n",
    "\n",
    "- Compute the **theoretical** probability for breaking even (at least 3 wins) using the theoretical probability function `theoretical()` (you wrote above). Hint: It can be calculated as a sum of the theretical probabilities of exactly 3, 4, ..., 9 wins. \n",
    "\n",
    "- Compare your answer to the expaerimantal probability computed (function `experiment()`) for $N=100$ experiments, $N=1000$ experiments, and $N=10000$ experiments (loop!).  \n",
    "- Do you approach the theoretical value with more experiments? (Hint: you should!)"
   ]
  },
  {
   "cell_type": "code",
   "execution_count": null,
   "metadata": {},
   "outputs": [],
   "source": []
  },
  {
   "cell_type": "markdown",
   "metadata": {},
   "source": [
    "### Exercise 5. Mutiple-choice questions\n",
    "A student is taking a multiple-choice exam consisting of 50 questions. Each question has four possible answers, which are labeled, for your convenience, as 1, 2, 3, and 4. Unfortunately, the student had only time to study 40% of the material for the test. Let's assume the student answers the 40% of the questions on the topics he/she studied correctly. For the other 60% of the questions, the student picks an answer at random. If all 1000 students have worked this way, how many will pass the exam even though they only studied 40% of the material? \n",
    "\n",
    "- Obtain an approximate answer for each of the 1000 students by drawing 30 random numbers (for the 30 questions that weren't studied). \n",
    "- A passing grade is at least 28 questions out of the 50 questions correct. The correct answers of the 30 questions that the students guess are given in the file `correct_answers.txt`. Note that the correct answers must be loaded as integers.\n",
    "- For each student check if the he/she passed the test or not. Think of how many 'guessed' answers should be correct in order to pass the test.\n",
    "- Print the number of the students that passed the test"
   ]
  },
  {
   "cell_type": "code",
   "execution_count": null,
   "metadata": {},
   "outputs": [],
   "source": []
  },
  {
   "cell_type": "markdown",
   "metadata": {},
   "source": [
    "### Generate random integers with non-equal probabilities\n",
    "So far, we have generated random numbers for which the probability of each outcome was the same (heads or tails, or the numbers on a dice, considering the throwing device was \"fair\"). What now if we want to generate outcomes that don't have the same probability? For example, consider the case that we have a bucket with 4 blue balls and 6 red balls. When you draw a ball at random, the probability of a blue ball is 0.4 and the probability of a red ball is 0.6. A sequence of drawing ten balls, with replacement, may be generated as follows"
   ]
  },
  {
   "cell_type": "code",
   "execution_count": null,
   "metadata": {},
   "outputs": [],
   "source": [
    "balls = np.zeros(10, dtype='int') # zero is blue\n",
    "balls[4:] = 1  # one is red\n",
    "print('balls:', balls)\n",
    "print('drawing 10 balls with replacement')\n",
    "rnd.seed(77)\n",
    "drawing = rnd.choice(balls, 10, replace=True)\n",
    "print('drawing:', drawing)\n",
    "print('blue balls:', np.count_nonzero(drawing == 0))\n",
    "print('red balls:', np.count_nonzero(drawing == 1))\n",
    "print('drawing 10 balls without replacement')\n",
    "rnd.seed(77)\n",
    "drawing = rnd.choice(balls, 10, replace=False)\n",
    "print('drawing:', drawing)\n",
    "print('blue balls:', np.count_nonzero(drawing == 0))\n",
    "print('red balls:', np.count_nonzero(drawing == 1))"
   ]
  },
  {
   "cell_type": "markdown",
   "metadata": {},
   "source": [
    "In the previous example, we generated an example with 4 blue balls (zeros) and 6 red balls (ones), which was easy. But you can see this gets cumbersome when we have 4 million blue balls and 6 million red balls. But luckily, the `choice` function has an alternative: you can specifiy a sequence of values, and for each value you can specify the probability that it is drawn. Obviously, the `replace=False` argument doesn't make much sense anymore when the probabilities are specified (as the probabilities change when balls are not replaced). Repeating the previous example with replacement by specifying probabilities gives"
   ]
  },
  {
   "cell_type": "code",
   "execution_count": null,
   "metadata": {},
   "outputs": [],
   "source": [
    "drawing = rnd.choice([0, 1], 10, p=[0.4, 0.6])  # replace=False by default\n",
    "print('drawing:', drawing)\n",
    "print('blue balls:', np.count_nonzero(drawing == 0))\n",
    "print('red balls:', np.count_nonzero(drawing == 1))"
   ]
  },
  {
   "cell_type": "markdown",
   "metadata": {},
   "source": [
    "Another cool feature of the `choice` function is that it also works on lists. For example, to pick 3 names at random from a list of 11 (arbitrary) names gives:"
   ]
  },
  {
   "cell_type": "code",
   "execution_count": null,
   "metadata": {},
   "outputs": [],
   "source": [
    "names = ['Andre', 'Daley', 'Mathijs', 'Nico', 'Noussair', 'Frenkie', 'Donny', 'Hakim', 'Dusan', 'David', 'KlaasJan']\n",
    "rnd.choice(names, 3, replace=True)"
   ]
  },
  {
   "cell_type": "markdown",
   "metadata": {},
   "source": [
    "### Exercise 6.  Election poll\n",
    "Consider an election where one million people will vote. 490,000 people will vote for candidate $T$ and 510,000 people will vote for candidate $B$. One day before the election, the company of 'Maurice the Dog' conducts a poll among 1000 randomly chosen voters. Compute whether the Dog will predict the winner correctly (the winner has more than 50% of the votes) using the approach explained above for generating numbers with unequal probability. Use a seed of 2."
   ]
  },
  {
   "cell_type": "code",
   "execution_count": null,
   "metadata": {},
   "outputs": [],
   "source": []
  },
  {
   "cell_type": "markdown",
   "metadata": {},
   "source": [
    "Perform the poll 1000 times. Count how many times the outcome of the poll is that candidate $T$ wins and how many times the outcome of the poll is that candidate $B$ wins. What is the probability that the Dog will predict the correct winner based on these 1000 polls of 1000 people? "
   ]
  },
  {
   "cell_type": "code",
   "execution_count": null,
   "metadata": {},
   "outputs": [],
   "source": []
  },
  {
   "cell_type": "markdown",
   "metadata": {},
   "source": [
    "Compute the probability that the Dog predicts the correct winner based on 1000 polls of 5000 people. Does the probability that The Dog predicts the correct winner increase significantly when he polls 5000 people?"
   ]
  },
  {
   "cell_type": "code",
   "execution_count": null,
   "metadata": {},
   "outputs": [],
   "source": []
  },
  {
   "cell_type": "code",
   "execution_count": null,
   "metadata": {},
   "outputs": [],
   "source": []
  }
 ],
 "metadata": {
  "kernelspec": {
   "display_name": "Python 3 (ipykernel)",
   "language": "python",
   "name": "python3"
  },
  "language_info": {
   "codemirror_mode": {
    "name": "ipython",
    "version": 3
   },
   "file_extension": ".py",
   "mimetype": "text/x-python",
   "name": "python",
   "nbconvert_exporter": "python",
   "pygments_lexer": "ipython3",
   "version": "3.9.12"
  },
  "latex_envs": {
   "LaTeX_envs_menu_present": true,
   "autoclose": false,
   "autocomplete": true,
   "bibliofile": "biblio.bib",
   "cite_by": "apalike",
   "current_citInitial": 1,
   "eqLabelWithNumbers": true,
   "eqNumInitial": 1,
   "hotkeys": {
    "equation": "Ctrl-E",
    "itemize": "Ctrl-I"
   },
   "labels_anchors": false,
   "latex_user_defs": false,
   "report_style_numbering": false,
   "user_envs_cfg": false
  }
 },
 "nbformat": 4,
 "nbformat_minor": 4
}
